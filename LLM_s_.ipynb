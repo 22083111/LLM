{
  "nbformat": 4,
  "nbformat_minor": 0,
  "metadata": {
    "colab": {
      "provenance": [],
      "gpuType": "T4",
      "include_colab_link": true
    },
    "kernelspec": {
      "name": "python3",
      "display_name": "Python 3"
    },
    "language_info": {
      "name": "python"
    },
    "accelerator": "GPU"
},
    
  "cells": [
    {
      "cell_type": "markdown",
      "metadata": {
        "id": "view-in-github",
        "colab_type": "text"
      },
      "source": [
        "<a href=\"https://colab.research.google.com/github/22083111/LLM/blob/main/LLM%22s_.ipynb\" target=\"_parent\"><img src=\"https://colab.research.google.com/assets/colab-badge.svg\" alt=\"Open In Colab\"/></a>"
      ]
    },
    {
      "cell_type": "code",
      "source": [
        "import pandas as pd\n",
        "from datasets import Dataset\n",
        "import matplotlib.pyplot as plt\n",
        "from transformers import AutoTokenizer, AutoModelForSequenceClassification, TrainingArguments, Trainer\n",
        "import numpy as np\n",
        "from sklearn.metrics import (\n",
        "    accuracy_score,\n",
        "    precision_score,\n",
        "    recall_score,\n",
        "    f1_score,\n",
        "    mean_squared_error,\n",
        "    confusion_matrix\n",
        ")\n",
        "import seaborn as sns\n",
        "import torch\n"
      ],
      "metadata": {
        "id": "bsGGalHgJcon"
      },
      "execution_count": null,
      "outputs": []
    },
    {
      "cell_type": "code",
      "execution_count": null,
      "metadata": {
        "id": "chSwWIHI3acK",
        "colab": {
          "base_uri": "https://localhost:8080/"
        },
        "outputId": "76b1a7ab-9dd6-4bae-9105-bd17d61c23b2"
      },
      "outputs": [
        {
          "output_type": "stream",
          "name": "stdout",
          "text": [
            "Drive already mounted at /content/drive; to attempt to forcibly remount, call drive.mount(\"/content/drive\", force_remount=True).\n"
          ]
        }
      ],
      "source": [
        "def mount_google_drive(mount_point: str = \"/content/drive\"):\n",
        "    \"\"\"\n",
        "    Mounts Google Drive in a Google Colab environment to enable file access.\n",
        "\n",
        "    Args:\n",
        "        mount_point (str, optional): The directory path where Google Drive will be mounted.\n",
        "                                     Defaults to '/content/drive'.\n",
        "\n",
        "    Returns:\n",
        "        None\n",
        "\n",
        "    Example:\n",
        "        mount_google_drive()\n",
        "    \"\"\"\n",
        "    from google.colab import drive\n",
        "    drive.mount(mount_point)\n",
        "\n",
        "# Call the function\n",
        "mount_google_drive()\n"
      ]
    },
    {
      "cell_type": "code",
      "source": [
        "\n",
        "def load_dataset(csv_path: str) -> pd.DataFrame:\n",
        "    \"\"\"\n",
        "    Loads a CSV file into a pandas DataFrame and displays the first few rows.\n",
        "\n",
        "    Args:\n",
        "        csv_path (str): The file path to the CSV dataset.\n",
        "\n",
        "    Returns:\n",
        "        pd.DataFrame: The loaded DataFrame containing the dataset.\n",
        "\n",
        "    Example:\n",
        "        df = load_dataset(\"/content/drive/MyDrive/IMDB Dataset.csv\")\n",
        "    \"\"\"\n",
        "\n",
        "    df = pd.read_csv(csv_path)\n",
        "    print(\"First 5 rows of the dataset:\")\n",
        "    display(df.head())\n",
        "    return df\n",
        "\n",
        "# Call the function\n",
        "csv_path = \"/content/drive/MyDrive/IMDB Dataset.csv\"\n",
        "df = load_dataset(csv_path)\n"
      ],
      "metadata": {
        "colab": {
          "base_uri": "https://localhost:8080/",
          "height": 225
        },
        "id": "fimCGLcP4ZbH",
        "outputId": "b6a2fa50-435f-4370-930e-ebad4c08b25a"
      },
      "execution_count": null,
      "outputs": [
        {
          "output_type": "stream",
          "name": "stdout",
          "text": [
            "First 5 rows of the dataset:\n"
          ]
        },
        {
          "output_type": "display_data",
          "data": {
            "text/plain": [
              "                                              review sentiment\n",
              "0  One of the other reviewers has mentioned that ...  positive\n",
              "1  A wonderful little production. <br /><br />The...  positive\n",
              "2  I thought this was a wonderful way to spend ti...  positive\n",
              "3  Basically there's a family where a little boy ...  negative\n",
              "4  Petter Mattei's \"Love in the Time of Money\" is...  positive"
            ],
            "text/html": [
              "\n",
              "  <div id=\"df-b304f30c-6b29-41a0-9fa0-637f15916e7d\" class=\"colab-df-container\">\n",
              "    <div>\n",
              "<style scoped>\n",
              "    .dataframe tbody tr th:only-of-type {\n",
              "        vertical-align: middle;\n",
              "    }\n",
              "\n",
              "    .dataframe tbody tr th {\n",
              "        vertical-align: top;\n",
              "    }\n",
              "\n",
              "    .dataframe thead th {\n",
              "        text-align: right;\n",
              "    }\n",
              "</style>\n",
              "<table border=\"1\" class=\"dataframe\">\n",
              "  <thead>\n",
              "    <tr style=\"text-align: right;\">\n",
              "      <th></th>\n",
              "      <th>review</th>\n",
              "      <th>sentiment</th>\n",
              "    </tr>\n",
              "  </thead>\n",
              "  <tbody>\n",
              "    <tr>\n",
              "      <th>0</th>\n",
              "      <td>One of the other reviewers has mentioned that ...</td>\n",
              "      <td>positive</td>\n",
              "    </tr>\n",
              "    <tr>\n",
              "      <th>1</th>\n",
              "      <td>A wonderful little production. &lt;br /&gt;&lt;br /&gt;The...</td>\n",
              "      <td>positive</td>\n",
              "    </tr>\n",
              "    <tr>\n",
              "      <th>2</th>\n",
              "      <td>I thought this was a wonderful way to spend ti...</td>\n",
              "      <td>positive</td>\n",
              "    </tr>\n",
              "    <tr>\n",
              "      <th>3</th>\n",
              "      <td>Basically there's a family where a little boy ...</td>\n",
              "      <td>negative</td>\n",
              "    </tr>\n",
              "    <tr>\n",
              "      <th>4</th>\n",
              "      <td>Petter Mattei's \"Love in the Time of Money\" is...</td>\n",
              "      <td>positive</td>\n",
              "    </tr>\n",
              "  </tbody>\n",
              "</table>\n",
              "</div>\n",
              "    <div class=\"colab-df-buttons\">\n",
              "\n",
              "  <div class=\"colab-df-container\">\n",
              "    <button class=\"colab-df-convert\" onclick=\"convertToInteractive('df-b304f30c-6b29-41a0-9fa0-637f15916e7d')\"\n",
              "            title=\"Convert this dataframe to an interactive table.\"\n",
              "            style=\"display:none;\">\n",
              "\n",
              "  <svg xmlns=\"http://www.w3.org/2000/svg\" height=\"24px\" viewBox=\"0 -960 960 960\">\n",
              "    <path d=\"M120-120v-720h720v720H120Zm60-500h600v-160H180v160Zm220 220h160v-160H400v160Zm0 220h160v-160H400v160ZM180-400h160v-160H180v160Zm440 0h160v-160H620v160ZM180-180h160v-160H180v160Zm440 0h160v-160H620v160Z\"/>\n",
              "  </svg>\n",
              "    </button>\n",
              "\n",
              "  <style>\n",
              "    .colab-df-container {\n",
              "      display:flex;\n",
              "      gap: 12px;\n",
              "    }\n",
              "\n",
              "    .colab-df-convert {\n",
              "      background-color: #E8F0FE;\n",
              "      border: none;\n",
              "      border-radius: 50%;\n",
              "      cursor: pointer;\n",
              "      display: none;\n",
              "      fill: #1967D2;\n",
              "      height: 32px;\n",
              "      padding: 0 0 0 0;\n",
              "      width: 32px;\n",
              "    }\n",
              "\n",
              "    .colab-df-convert:hover {\n",
              "      background-color: #E2EBFA;\n",
              "      box-shadow: 0px 1px 2px rgba(60, 64, 67, 0.3), 0px 1px 3px 1px rgba(60, 64, 67, 0.15);\n",
              "      fill: #174EA6;\n",
              "    }\n",
              "\n",
              "    .colab-df-buttons div {\n",
              "      margin-bottom: 4px;\n",
              "    }\n",
              "\n",
              "    [theme=dark] .colab-df-convert {\n",
              "      background-color: #3B4455;\n",
              "      fill: #D2E3FC;\n",
              "    }\n",
              "\n",
              "    [theme=dark] .colab-df-convert:hover {\n",
              "      background-color: #434B5C;\n",
              "      box-shadow: 0px 1px 3px 1px rgba(0, 0, 0, 0.15);\n",
              "      filter: drop-shadow(0px 1px 2px rgba(0, 0, 0, 0.3));\n",
              "      fill: #FFFFFF;\n",
              "    }\n",
              "  </style>\n",
              "\n",
              "    <script>\n",
              "      const buttonEl =\n",
              "        document.querySelector('#df-b304f30c-6b29-41a0-9fa0-637f15916e7d button.colab-df-convert');\n",
              "      buttonEl.style.display =\n",
              "        google.colab.kernel.accessAllowed ? 'block' : 'none';\n",
              "\n",
              "      async function convertToInteractive(key) {\n",
              "        const element = document.querySelector('#df-b304f30c-6b29-41a0-9fa0-637f15916e7d');\n",
              "        const dataTable =\n",
              "          await google.colab.kernel.invokeFunction('convertToInteractive',\n",
              "                                                    [key], {});\n",
              "        if (!dataTable) return;\n",
              "\n",
              "        const docLinkHtml = 'Like what you see? Visit the ' +\n",
              "          '<a target=\"_blank\" href=https://colab.research.google.com/notebooks/data_table.ipynb>data table notebook</a>'\n",
              "          + ' to learn more about interactive tables.';\n",
              "        element.innerHTML = '';\n",
              "        dataTable['output_type'] = 'display_data';\n",
              "        await google.colab.output.renderOutput(dataTable, element);\n",
              "        const docLink = document.createElement('div');\n",
              "        docLink.innerHTML = docLinkHtml;\n",
              "        element.appendChild(docLink);\n",
              "      }\n",
              "    </script>\n",
              "  </div>\n",
              "\n",
              "\n",
              "    <div id=\"df-4c5048c9-ecad-48d2-8a9f-f4e72a1bf33d\">\n",
              "      <button class=\"colab-df-quickchart\" onclick=\"quickchart('df-4c5048c9-ecad-48d2-8a9f-f4e72a1bf33d')\"\n",
              "                title=\"Suggest charts\"\n",
              "                style=\"display:none;\">\n",
              "\n",
              "<svg xmlns=\"http://www.w3.org/2000/svg\" height=\"24px\"viewBox=\"0 0 24 24\"\n",
              "     width=\"24px\">\n",
              "    <g>\n",
              "        <path d=\"M19 3H5c-1.1 0-2 .9-2 2v14c0 1.1.9 2 2 2h14c1.1 0 2-.9 2-2V5c0-1.1-.9-2-2-2zM9 17H7v-7h2v7zm4 0h-2V7h2v10zm4 0h-2v-4h2v4z\"/>\n",
              "    </g>\n",
              "</svg>\n",
              "      </button>\n",
              "\n",
              "<style>\n",
              "  .colab-df-quickchart {\n",
              "      --bg-color: #E8F0FE;\n",
              "      --fill-color: #1967D2;\n",
              "      --hover-bg-color: #E2EBFA;\n",
              "      --hover-fill-color: #174EA6;\n",
              "      --disabled-fill-color: #AAA;\n",
              "      --disabled-bg-color: #DDD;\n",
              "  }\n",
              "\n",
              "  [theme=dark] .colab-df-quickchart {\n",
              "      --bg-color: #3B4455;\n",
              "      --fill-color: #D2E3FC;\n",
              "      --hover-bg-color: #434B5C;\n",
              "      --hover-fill-color: #FFFFFF;\n",
              "      --disabled-bg-color: #3B4455;\n",
              "      --disabled-fill-color: #666;\n",
              "  }\n",
              "\n",
              "  .colab-df-quickchart {\n",
              "    background-color: var(--bg-color);\n",
              "    border: none;\n",
              "    border-radius: 50%;\n",
              "    cursor: pointer;\n",
              "    display: none;\n",
              "    fill: var(--fill-color);\n",
              "    height: 32px;\n",
              "    padding: 0;\n",
              "    width: 32px;\n",
              "  }\n",
              "\n",
              "  .colab-df-quickchart:hover {\n",
              "    background-color: var(--hover-bg-color);\n",
              "    box-shadow: 0 1px 2px rgba(60, 64, 67, 0.3), 0 1px 3px 1px rgba(60, 64, 67, 0.15);\n",
              "    fill: var(--button-hover-fill-color);\n",
              "  }\n",
              "\n",
              "  .colab-df-quickchart-complete:disabled,\n",
              "  .colab-df-quickchart-complete:disabled:hover {\n",
              "    background-color: var(--disabled-bg-color);\n",
              "    fill: var(--disabled-fill-color);\n",
              "    box-shadow: none;\n",
              "  }\n",
              "\n",
              "  .colab-df-spinner {\n",
              "    border: 2px solid var(--fill-color);\n",
              "    border-color: transparent;\n",
              "    border-bottom-color: var(--fill-color);\n",
              "    animation:\n",
              "      spin 1s steps(1) infinite;\n",
              "  }\n",
              "\n",
              "  @keyframes spin {\n",
              "    0% {\n",
              "      border-color: transparent;\n",
              "      border-bottom-color: var(--fill-color);\n",
              "      border-left-color: var(--fill-color);\n",
              "    }\n",
              "    20% {\n",
              "      border-color: transparent;\n",
              "      border-left-color: var(--fill-color);\n",
              "      border-top-color: var(--fill-color);\n",
              "    }\n",
              "    30% {\n",
              "      border-color: transparent;\n",
              "      border-left-color: var(--fill-color);\n",
              "      border-top-color: var(--fill-color);\n",
              "      border-right-color: var(--fill-color);\n",
              "    }\n",
              "    40% {\n",
              "      border-color: transparent;\n",
              "      border-right-color: var(--fill-color);\n",
              "      border-top-color: var(--fill-color);\n",
              "    }\n",
              "    60% {\n",
              "      border-color: transparent;\n",
              "      border-right-color: var(--fill-color);\n",
              "    }\n",
              "    80% {\n",
              "      border-color: transparent;\n",
              "      border-right-color: var(--fill-color);\n",
              "      border-bottom-color: var(--fill-color);\n",
              "    }\n",
              "    90% {\n",
              "      border-color: transparent;\n",
              "      border-bottom-color: var(--fill-color);\n",
              "    }\n",
              "  }\n",
              "</style>\n",
              "\n",
              "      <script>\n",
              "        async function quickchart(key) {\n",
              "          const quickchartButtonEl =\n",
              "            document.querySelector('#' + key + ' button');\n",
              "          quickchartButtonEl.disabled = true;  // To prevent multiple clicks.\n",
              "          quickchartButtonEl.classList.add('colab-df-spinner');\n",
              "          try {\n",
              "            const charts = await google.colab.kernel.invokeFunction(\n",
              "                'suggestCharts', [key], {});\n",
              "          } catch (error) {\n",
              "            console.error('Error during call to suggestCharts:', error);\n",
              "          }\n",
              "          quickchartButtonEl.classList.remove('colab-df-spinner');\n",
              "          quickchartButtonEl.classList.add('colab-df-quickchart-complete');\n",
              "        }\n",
              "        (() => {\n",
              "          let quickchartButtonEl =\n",
              "            document.querySelector('#df-4c5048c9-ecad-48d2-8a9f-f4e72a1bf33d button');\n",
              "          quickchartButtonEl.style.display =\n",
              "            google.colab.kernel.accessAllowed ? 'block' : 'none';\n",
              "        })();\n",
              "      </script>\n",
              "    </div>\n",
              "\n",
              "    </div>\n",
              "  </div>\n"
            ],
            "application/vnd.google.colaboratory.intrinsic+json": {
              "type": "dataframe",
              "summary": "{\n  \"name\": \"df = load_dataset(csv_path)\",\n  \"rows\": 5,\n  \"fields\": [\n    {\n      \"column\": \"review\",\n      \"properties\": {\n        \"dtype\": \"string\",\n        \"num_unique_values\": 5,\n        \"samples\": [\n          \"A wonderful little production. <br /><br />The filming technique is very unassuming- very old-time-BBC fashion and gives a comforting, and sometimes discomforting, sense of realism to the entire piece. <br /><br />The actors are extremely well chosen- Michael Sheen not only \\\"has got all the polari\\\" but he has all the voices down pat too! You can truly see the seamless editing guided by the references to Williams' diary entries, not only is it well worth the watching but it is a terrificly written and performed piece. A masterful production about one of the great master's of comedy and his life. <br /><br />The realism really comes home with the little things: the fantasy of the guard which, rather than use the traditional 'dream' techniques remains solid then disappears. It plays on our knowledge and our senses, particularly with the scenes concerning Orton and Halliwell and the sets (particularly of their flat with Halliwell's murals decorating every surface) are terribly well done.\",\n          \"Petter Mattei's \\\"Love in the Time of Money\\\" is a visually stunning film to watch. Mr. Mattei offers us a vivid portrait about human relations. This is a movie that seems to be telling us what money, power and success do to people in the different situations we encounter. <br /><br />This being a variation on the Arthur Schnitzler's play about the same theme, the director transfers the action to the present time New York where all these different characters meet and connect. Each one is connected in one way, or another to the next person, but no one seems to know the previous point of contact. Stylishly, the film has a sophisticated luxurious look. We are taken to see how these people live and the world they live in their own habitat.<br /><br />The only thing one gets out of all these souls in the picture is the different stages of loneliness each one inhabits. A big city is not exactly the best place in which human relations find sincere fulfillment, as one discerns is the case with most of the people we encounter.<br /><br />The acting is good under Mr. Mattei's direction. Steve Buscemi, Rosario Dawson, Carol Kane, Michael Imperioli, Adrian Grenier, and the rest of the talented cast, make these characters come alive.<br /><br />We wish Mr. Mattei good luck and await anxiously for his next work.\",\n          \"I thought this was a wonderful way to spend time on a too hot summer weekend, sitting in the air conditioned theater and watching a light-hearted comedy. The plot is simplistic, but the dialogue is witty and the characters are likable (even the well bread suspected serial killer). While some may be disappointed when they realize this is not Match Point 2: Risk Addiction, I thought it was proof that Woody Allen is still fully in control of the style many of us have grown to love.<br /><br />This was the most I'd laughed at one of Woody's comedies in years (dare I say a decade?). While I've never been impressed with Scarlet Johanson, in this she managed to tone down her \\\"sexy\\\" image and jumped right into a average, but spirited young woman.<br /><br />This may not be the crown jewel of his career, but it was wittier than \\\"Devil Wears Prada\\\" and more interesting than \\\"Superman\\\" a great comedy to go see with friends.\"\n        ],\n        \"semantic_type\": \"\",\n        \"description\": \"\"\n      }\n    },\n    {\n      \"column\": \"sentiment\",\n      \"properties\": {\n        \"dtype\": \"category\",\n        \"num_unique_values\": 2,\n        \"samples\": [\n          \"negative\",\n          \"positive\"\n        ],\n        \"semantic_type\": \"\",\n        \"description\": \"\"\n      }\n    }\n  ]\n}"
            }
          },
          "metadata": {}
        }
      ]
    },
    {
      "cell_type": "code",
      "source": [
        "def map_sentiment_labels(df: pd.DataFrame) -> pd.DataFrame:\n",
        "    \"\"\"\n",
        "    Maps sentiment labels ('positive' and 'negative') in the 'sentiment' column\n",
        "    of the DataFrame to numeric labels (1 and 0), and creates a new column 'label'.\n",
        "\n",
        "    Args:\n",
        "        df (pd.DataFrame): The input DataFrame containing a 'sentiment' column.\n",
        "\n",
        "    Returns:\n",
        "        pd.DataFrame: The DataFrame with an additional 'label' column containing numeric labels.\n",
        "\n",
        "    Example:\n",
        "        df = map_sentiment_labels(df)\n",
        "    \"\"\"\n",
        "    label_map = {\"positive\": 1, \"negative\": 0}\n",
        "    df[\"label\"] = df[\"sentiment\"].map(label_map)\n",
        "    print(\"First 5 rows with numeric labels:\")\n",
        "    print(df.head())\n",
        "    return df\n",
        "\n",
        "# Call the function\n",
        "df = map_sentiment_labels(df)\n"
      ],
      "metadata": {
        "id": "1iF1xDRE442G",
        "colab": {
          "base_uri": "https://localhost:8080/"
        },
        "outputId": "1c78cb5e-37ed-4a93-a846-896624c561bf"
      },
      "execution_count": null,
      "outputs": [
        {
          "output_type": "stream",
          "name": "stdout",
          "text": [
            "First 5 rows with numeric labels:\n",
            "                                              review sentiment  label\n",
            "0  One of the other reviewers has mentioned that ...  positive      1\n",
            "1  A wonderful little production. <br /><br />The...  positive      1\n",
            "2  I thought this was a wonderful way to spend ti...  positive      1\n",
            "3  Basically there's a family where a little boy ...  negative      0\n",
            "4  Petter Mattei's \"Love in the Time of Money\" is...  positive      1\n"
          ]
        }
      ]
    },
    {
      "cell_type": "code",
      "source": [
        "def convert_df_to_hf_dataset(df: \"pd.DataFrame\") -> \"Dataset\":\n",
        "    \"\"\"\n",
        "    Converts a pandas DataFrame into a Hugging Face Dataset.\n",
        "\n",
        "    Args:\n",
        "        df (pd.DataFrame): The pandas DataFrame to convert.\n",
        "\n",
        "    Returns:\n",
        "        Dataset: A Hugging Face Dataset object created from the DataFrame.\n",
        "\n",
        "    Example:\n",
        "        dataset = convert_df_to_hf_dataset(df)\n",
        "    \"\"\"\n",
        "\n",
        "    dataset = Dataset.from_pandas(df)\n",
        "    return dataset\n",
        "\n",
        "# Call the function\n",
        "dataset = convert_df_to_hf_dataset(df)\n"
      ],
      "metadata": {
        "id": "enQ3CTeb5A2w"
      },
      "execution_count": null,
      "outputs": []
    },
    {
      "cell_type": "code",
      "source": [
        "def plot_label_distribution(df: \"pd.DataFrame\") -> None:\n",
        "    \"\"\"\n",
        "    Counts the distribution of sentiment labels in the DataFrame and plots a bar chart.\n",
        "\n",
        "    The function:\n",
        "        - Counts occurrences of each numeric label.\n",
        "        - Maps numeric labels to text labels ('Negative' and 'Positive').\n",
        "        - Prints label counts for verification.\n",
        "        - Plots a bar chart showing the distribution.\n",
        "\n",
        "    Args:\n",
        "        df (pd.DataFrame): The DataFrame containing the 'label' column.\n",
        "\n",
        "    Returns:\n",
        "        None\n",
        "\n",
        "    Example:\n",
        "        plot_label_distribution(df)\n",
        "    \"\"\"\n",
        "    # Count labels\n",
        "    label_counts = df[\"label\"].value_counts(dropna=False)\n",
        "\n",
        "    if label_counts.empty:\n",
        "        print(\"No labels found in DataFrame. Please check the 'label' column.\")\n",
        "        return\n",
        "\n",
        "    # Print counts\n",
        "    print(\"Label counts:\")\n",
        "    print(label_counts)\n",
        "\n",
        "    # Map numeric labels to text\n",
        "    label_names = {0: \"Negative\", 1: \"Positive\"}\n",
        "    labels = [label_names.get(i, str(i)) for i in label_counts.index]\n",
        "\n",
        "    # Plot\n",
        "    plt.figure(figsize=(5, 4))\n",
        "    plt.bar(labels, label_counts.values, color=[\"salmon\", \"skyblue\"])\n",
        "    plt.xlabel(\"Sentiment\")\n",
        "    plt.ylabel(\"Number of Reviews\")\n",
        "    plt.title(\"Label Distribution in IMDb Dataset\")\n",
        "    plt.grid(axis=\"y\")\n",
        "    plt.tight_layout()\n",
        "    plt.show()\n",
        "\n",
        "# Call the function\n",
        "plot_label_distribution(df)\n"
      ],
      "metadata": {
        "colab": {
          "base_uri": "https://localhost:8080/",
          "height": 499
        },
        "id": "-mLkkWTEd6vW",
        "outputId": "24f3b8f5-090a-4e08-c5dd-575d741df31d"
      },
      "execution_count": null,
      "outputs": [
        {
          "output_type": "stream",
          "name": "stdout",
          "text": [
            "Label counts:\n",
            "label\n",
            "1    25000\n",
            "0    25000\n",
            "Name: count, dtype: int64\n"
          ]
        },
        {
          "output_type": "display_data",
          "data": {
            "text/plain": [
              "<Figure size 500x400 with 1 Axes>"
            ],
            "image/png": "[encoded data removed]"
          },
          "metadata": {}
        }
      ]
    },
    {
      "cell_type": "code",
      "source": [
        "def split_train_test(dataset: \"Dataset\", test_size: float = 0.2, seed: int = 42) -> \"DatasetDict\":\n",
        "    \"\"\"\n",
        "    Splits a Hugging Face Dataset into training and testing subsets.\n",
        "\n",
        "    Args:\n",
        "        dataset (Dataset): The Hugging Face Dataset to split.\n",
        "        test_size (float, optional): Proportion of the dataset to include in the test split.\n",
        "                                     Defaults to 0.2.\n",
        "        seed (int, optional): Random seed for reproducibility. Defaults to 42.\n",
        "\n",
        "    Returns:\n",
        "        DatasetDict: A dictionary containing 'train' and 'test' Dataset objects.\n",
        "\n",
        "    Example:\n",
        "        split_dataset = split_train_test(dataset)\n",
        "    \"\"\"\n",
        "    split_dataset = dataset.train_test_split(test_size=test_size, seed=seed)\n",
        "    print(\"Dataset split completed. Split keys:\", split_dataset.keys())\n",
        "    return split_dataset\n",
        "\n",
        "# Call the function\n",
        "split_dataset = split_train_test(dataset)\n"
      ],
      "metadata": {
        "colab": {
          "base_uri": "https://localhost:8080/"
        },
        "id": "LHmsJZfX5ZTx",
        "outputId": "d0a0ed99-f20b-4d6c-e5ad-644e004d45b4"
      },
      "execution_count": null,
      "outputs": [
        {
          "output_type": "stream",
          "name": "stdout",
          "text": [
            "Dataset split completed. Split keys: dict_keys(['train', 'test'])\n"
          ]
        }
      ]
    },
    {
      "cell_type": "code",
      "source": [
        "def load_bert_tokenizer(model_name: str = \"bert-base-uncased\") -> \"AutoTokenizer\":\n",
        "    \"\"\"\n",
        "    Loads a BERT tokenizer from the Hugging Face Transformers library.\n",
        "\n",
        "    Args:\n",
        "        model_name (str, optional): The name of the pre-trained BERT model tokenizer to load.\n",
        "                                    Defaults to 'bert-base-uncased'.\n",
        "\n",
        "    Returns:\n",
        "        AutoTokenizer: The loaded tokenizer object.\n",
        "\n",
        "    Example:\n",
        "        tokenizer = load_bert_tokenizer()\n",
        "    \"\"\"\n",
        "    tokenizer = AutoTokenizer.from_pretrained(model_name)\n",
        "    print(f\"Tokenizer '{model_name}' loaded successfully.\")\n",
        "    return tokenizer\n",
        "\n",
        "# Call the function\n",
        "tokenizer = load_bert_tokenizer()\n"
      ],
      "metadata": {
        "colab": {
          "base_uri": "https://localhost:8080/",
          "height": 294,
          "referenced_widgets": [
            "1452eb05707546dba429ff4fc927fa0e",
            "fb8bb5d3a73e44ffbebae9061cd5c2ea",
            "4b6f5cc7068046d4890514c1ac93cabc",
            "0ea2da7f11294d7fb735f4b30cebbce4",
            "a3a84084a683440ba8109e4e2ed2ffe5",
            "14c671a597dc4a2a87d6020121df955d",
            "f6fc432418ad4ee484074bd8eaed5630",
            "267b3ef1f28d4fa19811d74c7932820c",
            "b1c976f6fd2c4df2a67324694f08e9c0",
            "1572e82f9d564b3cab90169ff04e9c93",
            "ce90e6967c0f4338be335e42175149f5",
            "fabf96cda1f74c5fb461a19f809c2077",
            "588ba4386ccc47638ac885fbf2749ee2",
            "e77910965984494e9ad9769eec794292",
            "378b94637fd74397a2650f201fe64cad",
            "1bfc1139f3f5486a9ddb6b6e1f4b5884",
            "fe13015ece7444ada59ab3561bf19a9b",
            "df04c36c9b524595bc646885f58ed4a4",
            "402fac61835446a0aac02a34ea924311",
            "8ac2d7405a69440386eba4a2b3356edf",
            "546fcfb5a1694fce94ca004e32230733",
            "0e38eb217af04e859f73c0da3b8be705",
            "d649d5dc427940309123c40f0c18f01f",
            "1c0036d9fce846a69f2e5e8019e9a7a6",
            "ec65e96ab4be41f29c67298e1c0b6e66",
            "3e66a4b99f004aedb6e0d1c64b1b5185",
            "1f47cfd143394bb5a8353b94341220a2",
            "599f124f69c645f1a37e96ff041e146c",
            "a5715aa016a341ba823307eb9dec95e5",
            "52715b98fcfd48a0a89a08a7dc16a1ac",
            "056727520e224686b9acb9106d6ffdd9",
            "9489671dcaca44948195e11742ca75a9",
            "a858fe4b3fa144fbb6841dfc46402a72",
            "c2601fafdc364d1f8dcbc9d39a9cb65e",
            "a298507e46654e9e8bcbdecacce34acd",
            "5d12915f0bac4b399b95984dcea74cc9",
            "91bc6cfc29404f958465012b50e84c94",
            "d4932a2230ac491ba1aaaa0de220ea69",
            "e905cd35c2cb44859a367446a0c5583e",
            "021d6c3bfe3a4b9f8a06093f3a6cf0a4",
            "7da74866a694412582db280cac2ac84b",
            "8763be6559c44af48877839681f1db5b",
            "286b74b74c004b9c9eb38462b8ea2fa5",
            "4ceffb58c32e4aeb92397617125ed75d"
          ]
        },
        "id": "45_6vFlP5aqy",
        "outputId": "a274e903-92e8-4fbd-d2f4-8949c61931f3"
      },
      "execution_count": null,
      "outputs": [
        {
          "output_type": "stream",
          "name": "stderr",
          "text": [
            "/usr/local/lib/python3.11/dist-packages/huggingface_hub/utils/_auth.py:94: UserWarning: \n",
            "The secret `HF_TOKEN` does not exist in your Colab secrets.\n",
            "To authenticate with the Hugging Face Hub, create a token in your settings tab (https://huggingface.co/settings/tokens), set it as secret in your Google Colab and restart your session.\n",
            "You will be able to reuse this secret in all of your notebooks.\n",
            "Please note that authentication is recommended but still optional to access public models or datasets.\n",
            "  warnings.warn(\n"
          ]
        },
        {
          "output_type": "display_data",
          "data": {
            "text/plain": [
              "tokenizer_config.json:   0%|          | 0.00/48.0 [00:00<?, ?B/s]"
            ],
            "application/vnd.jupyter.widget-view+json": {
              "version_major": 2,
              "version_minor": 0,
              "model_id": "1452eb05707546dba429ff4fc927fa0e"
            }
          },
          "metadata": {}
        },
        {
          "output_type": "display_data",
          "data": {
            "text/plain": [
              "config.json:   0%|          | 0.00/570 [00:00<?, ?B/s]"
            ],
            "application/vnd.jupyter.widget-view+json": {
              "version_major": 2,
              "version_minor": 0,
              "model_id": "fabf96cda1f74c5fb461a19f809c2077"
            }
          },
          "metadata": {}
        },
        {
          "output_type": "display_data",
          "data": {
            "text/plain": [
              "vocab.txt:   0%|          | 0.00/232k [00:00<?, ?B/s]"
            ],
            "application/vnd.jupyter.widget-view+json": {
              "version_major": 2,
              "version_minor": 0,
              "model_id": "d649d5dc427940309123c40f0c18f01f"
            }
          },
          "metadata": {}
        },
        {
          "output_type": "display_data",
          "data": {
            "text/plain": [
              "tokenizer.json:   0%|          | 0.00/466k [00:00<?, ?B/s]"
            ],
            "application/vnd.jupyter.widget-view+json": {
              "version_major": 2,
              "version_minor": 0,
              "model_id": "c2601fafdc364d1f8dcbc9d39a9cb65e"
            }
          },
          "metadata": {}
        },
        {
          "output_type": "stream",
          "name": "stdout",
          "text": [
            "Tokenizer 'bert-base-uncased' loaded successfully.\n"
          ]
        }
      ]
    },
    {
      "cell_type": "code",
      "source": [
        "def tokenize_and_map_dataset(dataset: \"DatasetDict\", tokenizer: \"AutoTokenizer\", max_length: int = 128) -> \"DatasetDict\":\n",
        "    \"\"\"\n",
        "    Tokenizes the text reviews in a Hugging Face DatasetDict using the provided tokenizer.\n",
        "\n",
        "    Args:\n",
        "        dataset (DatasetDict): The dataset dictionary containing 'train' and 'test' splits.\n",
        "        tokenizer (AutoTokenizer): The tokenizer to use for encoding the text.\n",
        "        max_length (int, optional): The maximum sequence length for padding/truncation.\n",
        "                                    Defaults to 128.\n",
        "\n",
        "    Returns:\n",
        "        DatasetDict: The tokenized dataset.\n",
        "\n",
        "    Example:\n",
        "        tokenized_dataset = tokenize_and_map_dataset(split_dataset, tokenizer)\n",
        "    \"\"\"\n",
        "    def tokenize_function(examples):\n",
        "        return tokenizer(\n",
        "            examples[\"review\"],\n",
        "            padding=\"max_length\",\n",
        "            truncation=True,\n",
        "            max_length=max_length\n",
        "        )\n",
        "\n",
        "    tokenized_dataset = dataset.map(tokenize_function, batched=True)\n",
        "    print(\"Tokenization completed.\")\n",
        "    return tokenized_dataset\n",
        "\n",
        "# Call the function\n",
        "tokenized_dataset = tokenize_and_map_dataset(split_dataset, tokenizer)\n"
      ],
      "metadata": {
        "colab": {
          "base_uri": "https://localhost:8080/",
          "height": 99,
          "referenced_widgets": [
            "9472f26d7b3e4d3cae591c0e8d2bb7af",
            "422ea7fd8a224d0ba37a3f0a27076675",
            "a78910303f3d45049d52818472a72cb8",
            "3f852b1638504becbb391d258c3dba49",
            "acffba9ec2dd480ebcf6148d66e32039",
            "2a7a57906cca4e429df7bb6310595deb",
            "42ee3cadf5014854b4f94d9f530c3a6c",
            "debe40f127634ced842c1fee44b51af8",
            "3f3662cf140d4145bddae6e9a9ffe758",
            "1286d7756dc94303ade7c6931fd65f13",
            "d0f727a411bf4b23b1fec7bcbacff073",
            "9437d3a8034a4dafa77a6d2602b3e1c9",
            "85b768a63bea41428ccaa410136f8a02",
            "43aa14d66c604586a596ab8dfcd53e78",
            "a159e15ba04b4b889aab80363cf78fb2",
            "2ca324ff01114b0a993ed81df41a8ff1",
            "bc4e0839fc6c4930bbff30287d208e00",
            "bc8507abf5d84b8cb69fa6ef8bd20159",
            "714810c5390a449cbbf1ae94809abc82",
            "6911cf300707423e9e38097b5cd448f9",
            "aff7d96b941a49f1ac271e2f801864a9",
            "7ccc3e5556bd4f11bf38939777e5806f"
          ]
        },
        "id": "BzStIdqs5dcW",
        "outputId": "77ea1a80-48a8-49c8-b401-a9d763e8d076"
      },
      "execution_count": null,
      "outputs": [
        {
          "output_type": "display_data",
          "data": {
            "text/plain": [
              "Map:   0%|          | 0/40000 [00:00<?, ? examples/s]"
            ],
            "application/vnd.jupyter.widget-view+json": {
              "version_major": 2,
              "version_minor": 0,
              "model_id": "9472f26d7b3e4d3cae591c0e8d2bb7af"
            }
          },
          "metadata": {}
        },
        {
          "output_type": "display_data",
          "data": {
            "text/plain": [
              "Map:   0%|          | 0/10000 [00:00<?, ? examples/s]"
            ],
            "application/vnd.jupyter.widget-view+json": {
              "version_major": 2,
              "version_minor": 0,
              "model_id": "9437d3a8034a4dafa77a6d2602b3e1c9"
            }
          },
          "metadata": {}
        },
        {
          "output_type": "stream",
          "name": "stdout",
          "text": [
            "Tokenization completed.\n"
          ]
        }
      ]
    },
    {
      "cell_type": "code",
      "source": [
        "def show_first_tokenized_example(tokenized_dataset: \"DatasetDict\") -> None:\n",
        "    \"\"\"\n",
        "    Displays the first tokenized example from the training split of a tokenized DatasetDict.\n",
        "\n",
        "    Args:\n",
        "        tokenized_dataset (DatasetDict): The tokenized dataset containing 'train' and 'test' splits.\n",
        "\n",
        "    Returns:\n",
        "        None\n",
        "\n",
        "    Example:\n",
        "        show_first_tokenized_example(tokenized_dataset)\n",
        "    \"\"\"\n",
        "    first_example = tokenized_dataset[\"train\"][0]\n",
        "    print(\"First tokenized training example:\")\n",
        "    print(first_example)\n",
        "\n",
        "# Call the function\n",
        "show_first_tokenized_example(tokenized_dataset)\n"
      ],
      "metadata": {
        "colab": {
          "base_uri": "https://localhost:8080/"
        },
        "id": "e2bNY24-5n-g",
        "outputId": "dee804bc-df8a-4a07-fe1e-84e699d9b010"
      },
      "execution_count": null,
      "outputs": [
        {
          "output_type": "stream",
          "name": "stdout",
          "text": [
            "First tokenized training example:\n",
            "{'review': \"The film disappointed me for many reasons: first of all the depiction of a future which seemed at first realistic to me was well-built but did only feature a marginal role. Then, the story itself was a weak copy of Lost in Translation. The Middle-Eastern setting, man with family meets new girl overseas, karaoke bar, the camera movements and the imagery - all that was a very bad imitation of the excellent Lost in Translation which had also credibility. This movie tries to be something brilliant and cultural: it is not. I wonder why Tim Robbins even considered doing this film!? The female main actress is awful - did she play the precog in Minority Report? And why do you have to show the vagina in a movie like this? Lost in Translation didn't have to show excessive love scenes. R-Rated just for this? This movie isn't even worth watching it from a videostore!\", 'sentiment': 'negative', 'label': 0, 'input_ids': [101, 1996, 2143, 9364, 2033, 2005, 2116, 4436, 1024, 2034, 1997, 2035, 1996, 15921, 1997, 1037, 2925, 2029, 2790, 2012, 2034, 12689, 2000, 2033, 2001, 2092, 1011, 2328, 2021, 2106, 2069, 3444, 1037, 14785, 2535, 1012, 2059, 1010, 1996, 2466, 2993, 2001, 1037, 5410, 6100, 1997, 2439, 1999, 5449, 1012, 1996, 2690, 1011, 2789, 4292, 1010, 2158, 2007, 2155, 6010, 2047, 2611, 6931, 1010, 13173, 11045, 3347, 1010, 1996, 4950, 5750, 1998, 1996, 13425, 1011, 2035, 2008, 2001, 1037, 2200, 2919, 20017, 1997, 1996, 6581, 2439, 1999, 5449, 2029, 2018, 2036, 21553, 1012, 2023, 3185, 5363, 2000, 2022, 2242, 8235, 1998, 3451, 1024, 2009, 2003, 2025, 1012, 1045, 4687, 2339, 5199, 18091, 2130, 2641, 2725, 2023, 2143, 999, 1029, 1996, 2931, 2364, 3883, 2003, 9643, 1011, 2106, 102], 'token_type_ids': [0, 0, 0, 0, 0, 0, 0, 0, 0, 0, 0, 0, 0, 0, 0, 0, 0, 0, 0, 0, 0, 0, 0, 0, 0, 0, 0, 0, 0, 0, 0, 0, 0, 0, 0, 0, 0, 0, 0, 0, 0, 0, 0, 0, 0, 0, 0, 0, 0, 0, 0, 0, 0, 0, 0, 0, 0, 0, 0, 0, 0, 0, 0, 0, 0, 0, 0, 0, 0, 0, 0, 0, 0, 0, 0, 0, 0, 0, 0, 0, 0, 0, 0, 0, 0, 0, 0, 0, 0, 0, 0, 0, 0, 0, 0, 0, 0, 0, 0, 0, 0, 0, 0, 0, 0, 0, 0, 0, 0, 0, 0, 0, 0, 0, 0, 0, 0, 0, 0, 0, 0, 0, 0, 0, 0, 0, 0, 0], 'attention_mask': [1, 1, 1, 1, 1, 1, 1, 1, 1, 1, 1, 1, 1, 1, 1, 1, 1, 1, 1, 1, 1, 1, 1, 1, 1, 1, 1, 1, 1, 1, 1, 1, 1, 1, 1, 1, 1, 1, 1, 1, 1, 1, 1, 1, 1, 1, 1, 1, 1, 1, 1, 1, 1, 1, 1, 1, 1, 1, 1, 1, 1, 1, 1, 1, 1, 1, 1, 1, 1, 1, 1, 1, 1, 1, 1, 1, 1, 1, 1, 1, 1, 1, 1, 1, 1, 1, 1, 1, 1, 1, 1, 1, 1, 1, 1, 1, 1, 1, 1, 1, 1, 1, 1, 1, 1, 1, 1, 1, 1, 1, 1, 1, 1, 1, 1, 1, 1, 1, 1, 1, 1, 1, 1, 1, 1, 1, 1, 1]}\n"
          ]
        }
      ]
    },
    {
      "cell_type": "code",
      "source": [
        "def compute_and_plot_review_lengths(df: \"pd.DataFrame\") -> \"pd.DataFrame\":\n",
        "    \"\"\"\n",
        "    Computes the number of words in each review, adds a 'review_length' column,\n",
        "    and plots a histogram showing the distribution of review lengths.\n",
        "\n",
        "    Args:\n",
        "        df (pd.DataFrame): The DataFrame containing a 'review' column.\n",
        "\n",
        "    Returns:\n",
        "        pd.DataFrame: The DataFrame with the new 'review_length' column.\n",
        "\n",
        "    Example:\n",
        "        df = compute_and_plot_review_lengths(df)\n",
        "    \"\"\"\n",
        "    # Compute lengths\n",
        "    df[\"review_length\"] = df[\"review\"].apply(lambda x: len(x.split()))\n",
        "    print(\"Computed review lengths. Example:\")\n",
        "    print(df[[\"review\", \"review_length\"]].head())\n",
        "\n",
        "    # Plot histogram\n",
        "    plt.figure(figsize=(8, 5))\n",
        "    plt.hist(df[\"review_length\"], bins=50, color=\"purple\", alpha=0.7)\n",
        "    plt.xlabel(\"Number of Words\")\n",
        "    plt.ylabel(\"Number of Reviews\")\n",
        "    plt.title(\"Distribution of Review Lengths\")\n",
        "    plt.grid()\n",
        "    plt.tight_layout()\n",
        "    plt.show()\n",
        "\n",
        "    return df\n",
        "\n",
        "# Call the function\n",
        "df = compute_and_plot_review_lengths(df)\n"
      ],
      "metadata": {
        "colab": {
          "base_uri": "https://localhost:8080/",
          "height": 636
        },
        "id": "StAvhM3kd0KU",
        "outputId": "e935948d-2791-4c3f-ffbc-3ea0fe4d65f3"
      },
      "execution_count": null,
      "outputs": [
        {
          "output_type": "stream",
          "name": "stdout",
          "text": [
            "Computed review lengths. Example:\n",
            "                                              review  review_length\n",
            "0  One of the other reviewers has mentioned that ...            307\n",
            "1  A wonderful little production. <br /><br />The...            162\n",
            "2  I thought this was a wonderful way to spend ti...            166\n",
            "3  Basically there's a family where a little boy ...            138\n",
            "4  Petter Mattei's \"Love in the Time of Money\" is...            230\n"
          ]
        },
        {
          "output_type": "display_data",
          "data": {
            "text/plain": [
              "<Figure size 800x500 with 1 Axes>"
            ],
            "image/png": "[encoded data removed]"
          },
          "metadata": {}
        }
      ]
    },
    {
      "cell_type": "markdown",
      "source": [
        "model training\n"
      ],
      "metadata": {
        "id": "ua5gVw6M6Rgn"
      }
    },
    {
      "cell_type": "code",
      "source": [
        "def load_bert_sequence_classification_model(model_name: str = \"bert-base-uncased\", num_labels: int = 2) -> \"AutoModelForSequenceClassification\":\n",
        "    \"\"\"\n",
        "    Loads a pre-trained BERT model for sequence classification.\n",
        "\n",
        "    Args:\n",
        "        model_name (str, optional): The name of the pre-trained BERT model to load.\n",
        "                                    Defaults to 'bert-base-uncased'.\n",
        "        num_labels (int, optional): The number of labels for classification.\n",
        "                                    Defaults to 2 (binary classification).\n",
        "\n",
        "    Returns:\n",
        "        AutoModelForSequenceClassification: The loaded BERT model.\n",
        "\n",
        "    Example:\n",
        "        model = load_bert_sequence_classification_model()\n",
        "    \"\"\"\n",
        "    model = AutoModelForSequenceClassification.from_pretrained(\n",
        "        model_name,\n",
        "        num_labels=num_labels\n",
        "    )\n",
        "    print(f\"Model '{model_name}' loaded with {num_labels} labels.\")\n",
        "    return model\n",
        "\n",
        "# Call the function\n",
        "model = load_bert_sequence_classification_model()\n"
      ],
      "metadata": {
        "colab": {
          "base_uri": "https://localhost:8080/",
          "height": 104,
          "referenced_widgets": [
            "0d66fa4e51a443e28fc17466aa9e3ad6",
            "3cffc4ca8a6b4fd4b301bc728069bfad",
            "7204d529e0fc497e8abd3d7fcbcdd361",
            "e864da987a934b8db1d95eb506d1e06f",
            "6cfa4b9b36214a7eb5fbe9d369aab99b",
            "4151feac00dd4ea7b52bbba153b6004c",
            "2c175e6579dd4dc09502b13392ac75d0",
            "5afcdeb6e6084c97b9295c8afea42037",
            "84323658672c47fe90cdb72a7db07ea8",
            "d0ec13e2484240c19836d378cec9dbcc",
            "1e4aa652d960498b8249c43259575baa"
          ]
        },
        "id": "U8w2e4Yz54K5",
        "outputId": "4c947e20-4ed4-4911-df49-156781ebd055"
      },
      "execution_count": null,
      "outputs": [
        {
          "output_type": "display_data",
          "data": {
            "text/plain": [
              "model.safetensors:   0%|          | 0.00/440M [00:00<?, ?B/s]"
            ],
            "application/vnd.jupyter.widget-view+json": {
              "version_major": 2,
              "version_minor": 0,
              "model_id": "0d66fa4e51a443e28fc17466aa9e3ad6"
            }
          },
          "metadata": {}
        },
        {
          "output_type": "stream",
          "name": "stderr",
          "text": [
            "Some weights of BertForSequenceClassification were not initialized from the model checkpoint at bert-base-uncased and are newly initialized: ['classifier.bias', 'classifier.weight']\n",
            "You should probably TRAIN this model on a down-stream task to be able to use it for predictions and inference.\n"
          ]
        },
        {
          "output_type": "stream",
          "name": "stdout",
          "text": [
            "Model 'bert-base-uncased' loaded with 2 labels.\n"
          ]
        }
      ]
    },
    {
      "cell_type": "code",
      "source": [
        "def create_training_arguments(\n",
        "    output_dir: str = \"./bert-imdb-results\",\n",
        "    eval_strategy: str = \"epoch\",\n",
        "    learning_rate: float = 2e-5,\n",
        "    train_batch_size: int = 8,\n",
        "    eval_batch_size: int = 8,\n",
        "    num_epochs: int = 3,\n",
        "    weight_decay: float = 0.01,\n",
        "    save_total_limit: int = 1,\n",
        "    logging_dir: str = \"./logs\",\n",
        "    logging_steps: int = 50\n",
        ") -> \"TrainingArguments\":\n",
        "    \"\"\"\n",
        "    Creates TrainingArguments for Hugging Face Trainer.\n",
        "\n",
        "    Args:\n",
        "        output_dir (str, optional): Directory to save model checkpoints and outputs.\n",
        "        eval_strategy (str, optional): Evaluation strategy ('steps' or 'epoch').\n",
        "        learning_rate (float, optional): Learning rate for training.\n",
        "        train_batch_size (int, optional): Batch size per device during training.\n",
        "        eval_batch_size (int, optional): Batch size per device during evaluation.\n",
        "        num_epochs (int, optional): Total number of training epochs.\n",
        "        weight_decay (float, optional): Weight decay for optimizer.\n",
        "        save_total_limit (int, optional): Maximum number of checkpoints to keep.\n",
        "        logging_dir (str, optional): Directory to save logs.\n",
        "        logging_steps (int, optional): Frequency of logging.\n",
        "\n",
        "    Returns:\n",
        "        TrainingArguments: The configured training arguments object.\n",
        "\n",
        "    Example:\n",
        "        training_args = create_training_arguments()\n",
        "    \"\"\"\n",
        "    training_args = TrainingArguments(\n",
        "        output_dir=output_dir,\n",
        "        eval_strategy=eval_strategy,\n",
        "        learning_rate=learning_rate,\n",
        "        per_device_train_batch_size=train_batch_size,\n",
        "        per_device_eval_batch_size=eval_batch_size,\n",
        "        num_train_epochs=num_epochs,\n",
        "        weight_decay=weight_decay,\n",
        "        save_total_limit=save_total_limit,\n",
        "        logging_dir=logging_dir,\n",
        "        logging_steps=logging_steps,\n",
        "        report_to=\"none\"\n",
        "    )\n",
        "    print(\"TrainingArguments created successfully.\")\n",
        "    return training_args\n",
        "\n",
        "# Call the function\n",
        "training_args = create_training_arguments()\n"
      ],
      "metadata": {
        "id": "i7ic3fB46Ui2",
        "colab": {
          "base_uri": "https://localhost:8080/"
        },
        "outputId": "fdf291f9-ebd7-4fa7-da1c-44a76134a1b7"
      },
      "execution_count": null,
      "outputs": [
        {
          "output_type": "stream",
          "name": "stdout",
          "text": [
            "TrainingArguments created successfully.\n"
          ]
        }
      ]
    },
    {
      "cell_type": "code",
      "source": [
        "def create_trainer(\n",
        "    model: \"AutoModelForSequenceClassification\",\n",
        "    training_args: \"TrainingArguments\",\n",
        "    tokenized_dataset: \"DatasetDict\",\n",
        "    tokenizer: \"AutoTokenizer\"\n",
        ") -> \"Trainer\":\n",
        "    \"\"\"\n",
        "    Creates a Hugging Face Trainer for model training and evaluation.\n",
        "\n",
        "    Args:\n",
        "        model (AutoModelForSequenceClassification): The model to train.\n",
        "        training_args (TrainingArguments): The training configuration.\n",
        "        tokenized_dataset (DatasetDict): The tokenized dataset with 'train' and 'test' splits.\n",
        "        tokenizer (AutoTokenizer): The tokenizer used for preprocessing.\n",
        "\n",
        "    Returns:\n",
        "        Trainer: The configured Trainer object.\n",
        "\n",
        "    Example:\n",
        "        trainer = create_trainer(model, training_args, tokenized_dataset, tokenizer)\n",
        "    \"\"\"\n",
        "    trainer = Trainer(\n",
        "        model=model,\n",
        "        args=training_args,\n",
        "        train_dataset=tokenized_dataset[\"train\"],\n",
        "        eval_dataset=tokenized_dataset[\"test\"],\n",
        "        tokenizer=tokenizer\n",
        "    )\n",
        "    print(\"Trainer created successfully.\")\n",
        "    return trainer\n",
        "\n",
        "# Call the function\n",
        "trainer = create_trainer(model, training_args, tokenized_dataset, tokenizer)\n"
      ],
      "metadata": {
        "colab": {
          "base_uri": "https://localhost:8080/"
        },
        "id": "8NcRWBGQ9363",
        "outputId": "1895a8ea-610a-4fb6-dec3-6934865d35bd"
      },
      "execution_count": null,
      "outputs": [
        {
          "output_type": "stream",
          "name": "stderr",
          "text": [
            "/tmp/ipython-input-26-1853746317.py:22: FutureWarning: `tokenizer` is deprecated and will be removed in version 5.0.0 for `Trainer.__init__`. Use `processing_class` instead.\n",
            "  trainer = Trainer(\n"
          ]
        },
        {
          "output_type": "stream",
          "name": "stdout",
          "text": [
            "Trainer created successfully.\n"
          ]
        }
      ]
    },
    {
      "cell_type": "code",
      "source": [
        "def train_model(trainer: \"Trainer\") -> \"Trainer\":\n",
        "    \"\"\"\n",
        "    Fine-tunes the model using the provided Trainer instance.\n",
        "\n",
        "    Args:\n",
        "        trainer (Trainer): The Trainer object configured for training.\n",
        "\n",
        "    Returns:\n",
        "        Trainer: The same Trainer object after training is completed.\n",
        "\n",
        "    Example:\n",
        "        trainer = train_model(trainer)\n",
        "    \"\"\"\n",
        "    print(\"Starting training...\")\n",
        "    trainer.train()\n",
        "    print(\"Training completed.\")\n",
        "    return trainer\n",
        "\n",
        "# Call the function\n",
        "trainer = train_model(trainer)\n"
      ],
      "metadata": {
        "colab": {
          "base_uri": "https://localhost:8080/",
          "height": 327
        },
        "id": "ESPZZshh-Mw8",
        "outputId": "ad0d3474-911a-4134-c3a1-2984d93ac1c9"
      },
      "execution_count": null,
      "outputs": [
        {
          "metadata": {
            "tags": null
          },
          "name": "stdout",
          "output_type": "stream",
          "text": [
            "Starting training...\n"
          ]
        },
        {
          "data": {
            "text/html": [
              "\n",
              "    <div>\n",
              "      \n",
              "      <progress value='13830' max='15000' style='width:300px; height:20px; vertical-align: middle;'></progress>\n",
              "      [13830/15000 55:48 < 04:43, 4.13 it/s, Epoch 2.77/3]\n",
              "    </div>\n",
              "    <table border=\"1\" class=\"dataframe\">\n",
              "  <thead>\n",
              " <tr style=\"text-align: left;\">\n",
              "      <th>Epoch</th>\n",
              "      <th>Training Loss</th>\n",
              "      <th>Validation Loss</th>\n",
              "    </tr>\n",
              "  </thead>\n",
              "  <tbody>\n",
              "    <tr>\n",
              "      <td>1</td>\n",
              "      <td>0.355500</td>\n",
              "      <td>0.293498</td>\n",
              "    </tr>\n",
              "    <tr>\n",
              "      <td>2</td>\n",
              "      <td>0.243800</td>\n",
              "      <td>0.385123</td>\n",
              "    </tr>\n",
              "  </tbody>\n",
              "</table><p>"
            ],
            "text/plain": [
              "<IPython.core.display.HTML object>"
            ]
          },
          "metadata": {},
          "output_type": "display_data"
        },
        {
          "output_type": "display_data",
          "data": {
            "text/plain": [
              "<IPython.core.display.HTML object>"
            ],
            "text/html": [
              "\n",
              "    <div>\n",
              "      \n",
              "      <progress value='15000' max='15000' style='width:300px; height:20px; vertical-align: middle;'></progress>\n",
              "      [15000/15000 1:01:31, Epoch 3/3]\n",
              "    </div>\n",
              "    <table border=\"1\" class=\"dataframe\">\n",
              "  <thead>\n",
              " <tr style=\"text-align: left;\">\n",
              "      <th>Epoch</th>\n",
              "      <th>Training Loss</th>\n",
              "      <th>Validation Loss</th>\n",
              "    </tr>\n",
              "  </thead>\n",
              "  <tbody>\n",
              "    <tr>\n",
              "      <td>1</td>\n",
              "      <td>0.355500</td>\n",
              "      <td>0.293498</td>\n",
              "    </tr>\n",
              "    <tr>\n",
              "      <td>2</td>\n",
              "      <td>0.243800</td>\n",
              "      <td>0.385123</td>\n",
              "    </tr>\n",
              "    <tr>\n",
              "      <td>3</td>\n",
              "      <td>0.174400</td>\n",
              "      <td>0.522749</td>\n",
              "    </tr>\n",
              "  </tbody>\n",
              "</table><p>"
            ]
          },
          "metadata": {}
        },
        {
          "output_type": "stream",
          "name": "stdout",
          "text": [
            "Training completed.\n"
          ]
        }
      ]
    },
    {
      "cell_type": "code",
      "source": [
        "def evaluate_model(trainer: \"Trainer\") -> dict:\n",
        "    \"\"\"\n",
        "    Evaluates the trained model on the evaluation dataset.\n",
        "\n",
        "    Args:\n",
        "        trainer (Trainer): The Trainer object with the trained model.\n",
        "\n",
        "    Returns:\n",
        "        dict: A dictionary containing evaluation metrics.\n",
        "\n",
        "    Example:\n",
        "        metrics = evaluate_model(trainer)\n",
        "    \"\"\"\n",
        "    print(\"Evaluating the model...\")\n",
        "    metrics = trainer.evaluate()\n",
        "    print(\"Evaluation metrics:\")\n",
        "    print(metrics)\n",
        "    return metrics\n",
        "\n",
        "# Call the function\n",
        "metrics = evaluate_model(trainer)\n"
      ],
      "metadata": {
        "colab": {
          "base_uri": "https://localhost:8080/",
          "height": 92
        },
        "id": "Ad5i8HSR-2G7",
        "outputId": "ccd4638b-66cc-4d56-c034-d88d2cd318fd"
      },
      "execution_count": null,
      "outputs": [
        {
          "output_type": "stream",
          "name": "stdout",
          "text": [
            "Evaluating the model...\n"
          ]
        },
        {
          "output_type": "display_data",
          "data": {
            "text/plain": [
              "<IPython.core.display.HTML object>"
            ],
            "text/html": [
              "\n",
              "    <div>\n",
              "      \n",
              "      <progress value='1250' max='1250' style='width:300px; height:20px; vertical-align: middle;'></progress>\n",
              "      [1250/1250 01:15]\n",
              "    </div>\n",
              "    "
            ]
          },
          "metadata": {}
        },
        {
          "output_type": "stream",
          "name": "stdout",
          "text": [
            "Evaluation metrics:\n",
            "{'eval_loss': 0.5227486491203308, 'eval_runtime': 75.8296, 'eval_samples_per_second': 131.875, 'eval_steps_per_second': 16.484, 'epoch': 3.0}\n"
          ]
        }
      ]
    },
    {
      "cell_type": "code",
      "source": [
        "def plot_training_validation_loss(trainer: \"Trainer\") -> None:\n",
        "    \"\"\"\n",
        "    Converts the Trainer log history to a DataFrame, computes average training loss\n",
        "    per epoch, extracts validation loss, and plots both over epochs.\n",
        "\n",
        "    Args:\n",
        "        trainer (Trainer): The Trainer object after training.\n",
        "\n",
        "    Returns:\n",
        "        None\n",
        "\n",
        "    Example:\n",
        "        plot_training_validation_loss(trainer)\n",
        "    \"\"\"\n",
        "    # Convert log history to DataFrame\n",
        "    logs = pd.DataFrame(trainer.state.log_history)\n",
        "\n",
        "    if logs.empty:\n",
        "        print(\"No log history found in the Trainer state.\")\n",
        "        return\n",
        "\n",
        "    # Compute average training loss per epoch\n",
        "    train_loss_per_epoch = logs.groupby(\"epoch\")[\"loss\"].mean()\n",
        "\n",
        "    # Extract validation loss\n",
        "    eval_logs = logs.dropna(subset=[\"eval_loss\"]).set_index(\"epoch\")\n",
        "\n",
        "    # Plot\n",
        "    plt.figure(figsize=(7, 5))\n",
        "    plt.plot(train_loss_per_epoch.index, train_loss_per_epoch.values, marker=\"o\", label=\"Training Loss\")\n",
        "    plt.plot(eval_logs.index, eval_logs[\"eval_loss\"].values, marker=\"o\", label=\"Validation Loss\")\n",
        "\n",
        "    plt.xlabel(\"Epoch\")\n",
        "    plt.ylabel(\"Loss\")\n",
        "    plt.title(\"Training and Validation Loss per Epoch\")\n",
        "    plt.legend()\n",
        "    plt.grid()\n",
        "    plt.tight_layout()\n",
        "    plt.show()\n",
        "\n",
        "    print(\"Loss plot generated successfully.\")\n",
        "\n",
        "# Call the function\n",
        "plot_training_validation_loss(trainer)\n"
      ],
      "metadata": {
        "colab": {
          "base_uri": "https://localhost:8080/",
          "height": 525
        },
        "id": "dqB2BTgffOZZ",
        "outputId": "e6101018-45cc-430e-fc5d-2a6efd30d10f"
      },
      "execution_count": null,
      "outputs": [
        {
          "output_type": "display_data",
          "data": {
            "text/plain": [
              "<Figure size 700x500 with 1 Axes>"
            ],
            "image/png": "[encoded data removed]"
          },
          "metadata": {}
        },
        {
          "output_type": "stream",
          "name": "stdout",
          "text": [
            "Loss plot generated successfully.\n"
          ]
        }
      ]
    },
    {
      "cell_type": "code",
      "source": [
        "def evaluate_predictions(\n",
        "    trainer: \"Trainer\",\n",
        "    tokenized_dataset: \"DatasetDict\"\n",
        ") -> dict:\n",
        "    \"\"\"\n",
        "    Generates predictions on the test set, computes performance metrics,\n",
        "    and plots a confusion matrix.\n",
        "\n",
        "    Args:\n",
        "        trainer (Trainer): The trained Hugging Face Trainer.\n",
        "        tokenized_dataset (DatasetDict): The tokenized dataset with 'test' split.\n",
        "\n",
        "    Returns:\n",
        "        dict: A dictionary containing accuracy, precision, recall, F1, MSE, and RMSE.\n",
        "\n",
        "    Example:\n",
        "        metrics = evaluate_predictions(trainer, tokenized_dataset)\n",
        "    \"\"\"\n",
        "    print(\"Generating predictions on the test set...\")\n",
        "    predictions = trainer.predict(tokenized_dataset[\"test\"])\n",
        "    y_pred = np.argmax(predictions.predictions, axis=1)\n",
        "    y_true = predictions.label_ids\n",
        "\n",
        "    # Compute metrics\n",
        "    accuracy = accuracy_score(y_true, y_pred)\n",
        "    precision = precision_score(y_true, y_pred)\n",
        "    recall = recall_score(y_true, y_pred)\n",
        "    f1 = f1_score(y_true, y_pred)\n",
        "    mse = mean_squared_error(y_true, y_pred)\n",
        "    rmse = np.sqrt(mse)\n",
        "\n",
        "    # Print metrics\n",
        "    print(f\"Accuracy: {accuracy:.4f}\")\n",
        "    print(f\"Precision: {precision:.4f}\")\n",
        "    print(f\"Recall: {recall:.4f}\")\n",
        "    print(f\"F1 Score: {f1:.4f}\")\n",
        "    print(f\"RMSE: {rmse:.4f}\")\n",
        "\n",
        "    # Confusion Matrix\n",
        "    cm = confusion_matrix(y_true, y_pred)\n",
        "    plt.figure(figsize=(4, 4))\n",
        "    sns.heatmap(\n",
        "        cm,\n",
        "        annot=True,\n",
        "        fmt=\"d\",\n",
        "        cmap=\"Blues\",\n",
        "        xticklabels=[\"Negative\", \"Positive\"],\n",
        "        yticklabels=[\"Negative\", \"Positive\"]\n",
        "    )\n",
        "    plt.xlabel(\"Predicted\")\n",
        "    plt.ylabel(\"Actual\")\n",
        "    plt.title(\"Confusion Matrix\")\n",
        "    plt.tight_layout()\n",
        "    plt.show()\n",
        "\n",
        "    # Return metrics as dict\n",
        "    metrics = {\n",
        "        \"accuracy\": accuracy,\n",
        "        \"precision\": precision,\n",
        "        \"recall\": recall,\n",
        "        \"f1_score\": f1,\n",
        "        \"mse\": mse,\n",
        "        \"rmse\": rmse\n",
        "    }\n",
        "    return metrics\n",
        "\n",
        "# Call the function\n",
        "metrics = evaluate_predictions(trainer, tokenized_dataset)\n"
      ],
      "metadata": {
        "colab": {
          "base_uri": "https://localhost:8080/",
          "height": 518
        },
        "id": "PEvOL1sSfL14",
        "outputId": "70ddffc5-7e58-4afa-ef2c-685e555293fd"
      },
      "execution_count": null,
      "outputs": [
        {
          "output_type": "stream",
          "name": "stdout",
          "text": [
            "Generating predictions on the test set...\n"
          ]
        },
        {
          "output_type": "display_data",
          "data": {
            "text/plain": [
              "<IPython.core.display.HTML object>"
            ],
            "text/html": []
          },
          "metadata": {}
        },
        {
          "output_type": "stream",
          "name": "stdout",
          "text": [
            "Accuracy: 0.8969\n",
            "Precision: 0.8882\n",
            "Recall: 0.9050\n",
            "F1 Score: 0.8965\n",
            "RMSE: 0.3211\n"
          ]
        },
        {
          "output_type": "display_data",
          "data": {
            "text/plain": [
              "<Figure size 400x400 with 2 Axes>"
            ],
            "image/png": "[encoded data removed]"
          },
          "metadata": {}
        }
      ]
    },
    {
      "cell_type": "code",
      "source": [
        "def predict_sentiment(\n",
        "    model: \"AutoModelForSequenceClassification\",\n",
        "    tokenizer: \"AutoTokenizer\",\n",
        "    text: str,\n",
        "    max_length: int = 128\n",
        ") -> str:\n",
        "    \"\"\"\n",
        "    Predicts the sentiment of a single text input using the trained model.\n",
        "\n",
        "    Args:\n",
        "        model (AutoModelForSequenceClassification): The trained BERT model.\n",
        "        tokenizer (AutoTokenizer): The tokenizer used for preprocessing.\n",
        "        text (str): The input text to classify.\n",
        "        max_length (int, optional): Maximum sequence length for tokenization. Defaults to 128.\n",
        "\n",
        "    Returns:\n",
        "        str: The predicted sentiment label ('positive' or 'negative').\n",
        "\n",
        "    Example:\n",
        "        label = predict_sentiment(model, tokenizer, \"This movie was great!\")\n",
        "    \"\"\"\n",
        "    # Ensure model is on correct device\n",
        "    device = torch.device(\"cuda\" if torch.cuda.is_available() else \"cpu\")\n",
        "    model.to(device)\n",
        "\n",
        "    # Tokenize input\n",
        "    inputs = tokenizer(\n",
        "        text,\n",
        "        return_tensors=\"pt\",\n",
        "        truncation=True,\n",
        "        padding=True,\n",
        "        max_length=max_length\n",
        "    )\n",
        "\n",
        "    # Move inputs to device\n",
        "    inputs = {k: v.to(device) for k, v in inputs.items()}\n",
        "\n",
        "    # Predict\n",
        "    with torch.no_grad():\n",
        "        outputs = model(**inputs)\n",
        "        logits = outputs.logits\n",
        "        predicted_class_id = torch.argmax(logits).item()\n",
        "\n",
        "    label_map = {0: \"negative\", 1: \"positive\"}\n",
        "    predicted_label = label_map[predicted_class_id]\n",
        "\n",
        "    # Print result\n",
        "    print(f\"Review: '{text}'\")\n",
        "    print(f\"Predicted sentiment: {predicted_label}\")\n",
        "\n",
        "    return predicted_label\n",
        "\n",
        "# Call the function\n",
        "_ = predict_sentiment(\n",
        "    model,\n",
        "    tokenizer,\n",
        "    \"This movie was absolutely fantastic!\"\n",
        ")\n"
      ],
      "metadata": {
        "colab": {
          "base_uri": "https://localhost:8080/"
        },
        "id": "GO7178oDJilN",
        "outputId": "b80e07f1-e604-4d5d-92db-4f26e5a65013"
      },
      "execution_count": null,
      "outputs": [
        {
          "output_type": "stream",
          "name": "stdout",
          "text": [
            "Review: 'This movie was absolutely fantastic!'\n",
            "Predicted sentiment: positive\n"
          ]
        }
      ]
    },
    {
      "cell_type": "code",
      "source": [
        "def batch_predict_sentiments(\n",
        "    model: \"AutoModelForSequenceClassification\",\n",
        "    tokenizer: \"AutoTokenizer\",\n",
        "    texts: list,\n",
        "    max_length: int = 128\n",
        ") -> list:\n",
        "    \"\"\"\n",
        "    Predicts the sentiment for a list of texts using the trained model.\n",
        "\n",
        "    Args:\n",
        "        model (AutoModelForSequenceClassification): The trained BERT model.\n",
        "        tokenizer (AutoTokenizer): The tokenizer used for preprocessing.\n",
        "        texts (list): A list of text strings to classify.\n",
        "        max_length (int, optional): Maximum sequence length for tokenization. Defaults to 128.\n",
        "\n",
        "    Returns:\n",
        "        list: A list of predicted sentiment labels ('positive' or 'negative') for each text.\n",
        "\n",
        "    Example:\n",
        "        predictions = batch_predict_sentiments(model, tokenizer, texts)\n",
        "    \"\"\"\n",
        "    # Ensure model is on the correct device\n",
        "    device = torch.device(\"cuda\" if torch.cuda.is_available() else \"cpu\")\n",
        "    model.to(device)\n",
        "\n",
        "    label_map = {0: \"negative\", 1: \"positive\"}\n",
        "    predictions = []\n",
        "\n",
        "    for text in texts:\n",
        "        # Tokenize\n",
        "        inputs = tokenizer(\n",
        "            text,\n",
        "            return_tensors=\"pt\",\n",
        "            truncation=True,\n",
        "            padding=True,\n",
        "            max_length=max_length\n",
        "        )\n",
        "        inputs = {k: v.to(device) for k, v in inputs.items()}\n",
        "\n",
        "        # Predict\n",
        "        with torch.no_grad():\n",
        "            outputs = model(**inputs)\n",
        "            logits = outputs.logits\n",
        "            predicted_class_id = torch.argmax(logits).item()\n",
        "\n",
        "        predicted_label = label_map[predicted_class_id]\n",
        "        predictions.append(predicted_label)\n",
        "\n",
        "        # Print result\n",
        "        print(f\"Review: '{text}'\")\n",
        "        print(f\"Predicted sentiment: {predicted_label}\")\n",
        "        print(\"---\")\n",
        "\n",
        "    return predictions\n",
        "\n",
        "# Call the function\n",
        "texts = [\n",
        "    \"I hated every minute of this movie.\",\n",
        "    \"An unforgettable performance and a great story.\",\n",
        "    \"This was just okay, not terrible but not good either.\"\n",
        "]\n",
        "\n",
        "_ = batch_predict_sentiments(model, tokenizer, texts)\n"
      ],
      "metadata": {
        "colab": {
          "base_uri": "https://localhost:8080/"
        },
        "id": "x4Fg9RUQKfxv",
        "outputId": "431fe1f8-10c3-4aee-ea9c-979bc51e31b0"
      },
      "execution_count": null,
      "outputs": [
        {
          "output_type": "stream",
          "name": "stdout",
          "text": [
            "Review: 'I hated every minute of this movie.'\n",
            "Predicted sentiment: negative\n",
            "---\n",
            "Review: 'An unforgettable performance and a great story.'\n",
            "Predicted sentiment: positive\n",
            "---\n",
            "Review: 'This was just okay, not terrible but not good either.'\n",
            "Predicted sentiment: negative\n",
            "---\n"
          ]
        }
      ]
    },
    {
      "cell_type": "code",
      "source": [
        "def predict_and_plot_correctness(\n",
        "    trainer: \"Trainer\",\n",
        "    tokenized_dataset: \"DatasetDict\"\n",
        ") -> None:\n",
        "    \"\"\"\n",
        "    Predicts on the test set, computes correct vs. incorrect counts,\n",
        "    and plots them in a bar chart.\n",
        "\n",
        "    Args:\n",
        "        trainer (Trainer): The trained Hugging Face Trainer.\n",
        "        tokenized_dataset (DatasetDict): The dataset with 'test' split.\n",
        "\n",
        "    Returns:\n",
        "        None\n",
        "\n",
        "    Example:\n",
        "        predict_and_plot_correctness(trainer, tokenized_dataset)\n",
        "    \"\"\"\n",
        "    # Predict\n",
        "    predictions = trainer.predict(tokenized_dataset[\"test\"])\n",
        "    y_pred = np.argmax(predictions.predictions, axis=1)\n",
        "    y_true = predictions.label_ids\n",
        "\n",
        "    # Compute counts\n",
        "    correct = (y_pred == y_true).sum()\n",
        "    incorrect = (y_pred != y_true).sum()\n",
        "\n",
        "    # Print counts\n",
        "    print(f\"Correct predictions: {correct}\")\n",
        "    print(f\"Incorrect predictions: {incorrect}\")\n",
        "\n",
        "    # Plot\n",
        "    plt.figure(figsize=(5, 4))\n",
        "    plt.bar([\"Correct\", \"Incorrect\"], [correct, incorrect], color=[\"green\", \"red\"])\n",
        "    plt.ylabel(\"Number of Predictions\")\n",
        "    plt.title(\"Correct vs Incorrect Predictions\")\n",
        "    plt.grid(axis=\"y\")\n",
        "    plt.tight_layout()\n",
        "    plt.show()\n",
        "\n",
        "# Call the function\n",
        "predict_and_plot_correctness(trainer, tokenized_dataset)\n"
      ],
      "metadata": {
        "id": "_2AZzB7W1BAX",
        "colab": {
          "base_uri": "https://localhost:8080/",
          "height": 444
        },
        "outputId": "196c763d-7e50-4c61-f413-498dc2740f7c"
      },
      "execution_count": null,
      "outputs": [
        {
          "output_type": "display_data",
          "data": {
            "text/plain": [
              "<IPython.core.display.HTML object>"
            ],
            "text/html": []
          },
          "metadata": {}
        },
        {
          "output_type": "stream",
          "name": "stdout",
          "text": [
            "Correct predictions: 8969\n",
            "Incorrect predictions: 1031\n"
          ]
        },
        {
          "output_type": "display_data",
          "data": {
            "text/plain": [
              "<Figure size 500x400 with 1 Axes>"
            ],
            "image/png": "[encoded data removed]"
          },
          "metadata": {}
        }
      ]
    },
    {
      "cell_type": "code",
      "source": [
        "def save_trained_model(trainer: \"Trainer\", output_dir: str = \"./bert-imdb-finetuned\") -> None:\n",
        "    \"\"\"\n",
        "    Saves the trained model to the specified directory.\n",
        "\n",
        "    Args:\n",
        "        trainer (Trainer): The trained Hugging Face Trainer object.\n",
        "        output_dir (str, optional): Directory where the model will be saved.\n",
        "                                    Defaults to './bert-imdb-finetuned'.\n",
        "\n",
        "    Returns:\n",
        "        None\n",
        "\n",
        "    Example:\n",
        "        save_trained_model(trainer)\n",
        "    \"\"\"\n",
        "    trainer.save_model(output_dir)\n",
        "    print(f\"Model saved to '{output_dir}'.\")\n",
        "\n",
        "# Call the function\n",
        "save_trained_model(trainer)\n"
      ],
      "metadata": {
        "id": "6vmnXUFVJnf0",
        "colab": {
          "base_uri": "https://localhost:8080/"
        },
        "outputId": "0ff6fec3-abaf-49da-94eb-551171f99da4"
      },
      "execution_count": null,
      "outputs": [
        {
          "output_type": "stream",
          "name": "stdout",
          "text": [
            "Model saved to './bert-imdb-finetuned'.\n"
          ]
        }
      ]
    },
    {
      "cell_type": "code",
      "source": [],
      "metadata": {
        "id": "6Il9yTSYJoMw"
      },
      "execution_count": null,
      "outputs": []
    }
  ]
}